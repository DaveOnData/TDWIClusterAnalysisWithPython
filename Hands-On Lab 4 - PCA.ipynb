{
 "cells": [
  {
   "cell_type": "markdown",
   "id": "33c90830",
   "metadata": {},
   "source": [
    "## Hands-On Lab 4 - PCA"
   ]
  },
  {
   "cell_type": "markdown",
   "id": "a4618be3",
   "metadata": {},
   "source": [
    "### Step 1 - Load Data"
   ]
  },
  {
   "cell_type": "markdown",
   "id": "45eab3af",
   "metadata": {},
   "source": [
    "The *hand-written digits* dataset is provided by the scikit-learn library. The following code loads the dataset as *pandas* objects for use in DBSCAN clustering. Run the following code cell to load the dataset."
   ]
  },
  {
   "cell_type": "code",
   "execution_count": null,
   "id": "c3e12f8a",
   "metadata": {},
   "outputs": [],
   "source": [
    "from sklearn.datasets import load_digits\n",
    "\n",
    "# The load_digits() function returns a bunch object\n",
    "digits_bunch = load_digits(as_frame = True)\n",
    "\n",
    "# Get the labels\n",
    "digits_Y = digits_bunch.target.rename('Actual Label')\n",
    "\n",
    "# Get the feature data\n",
    "digits_X = digits_bunch.data"
   ]
  },
  {
   "cell_type": "markdown",
   "id": "b6ecfdc1",
   "metadata": {},
   "source": [
    "### Step 2 - Perform PCA"
   ]
  },
  {
   "cell_type": "markdown",
   "id": "17799c03",
   "metadata": {},
   "source": [
    "While it is a common practice to standardize data (e.g., via the *StandardScaler* class) before performing PCA, the *hand-written digits* dataset has already been preprocessed. The following code uses the *PCA* class to find the minimum number of principal components to capture 95% of the variance in the dataset. Type the following code into the blank code cell in your lab notebook and run it to produce the results. "
   ]
  },
  {
   "cell_type": "code",
   "execution_count": null,
   "id": "640c9eb6",
   "metadata": {},
   "outputs": [],
   "source": [
    "# Enter your lab code here"
   ]
  },
  {
   "cell_type": "markdown",
   "id": "06fb55dc",
   "metadata": {},
   "source": [
    "### Step 3 - Optimize DBSCAN Part 1"
   ]
  },
  {
   "cell_type": "markdown",
   "id": "a53a4028",
   "metadata": {},
   "source": [
    "PCA has reduced the number of features from the original 64 down to 29. In this lab you will optimize DBSCAN using the rule of thumb for the minimal value of *min_samples* - the number of features plus 1 (i.e., 30). The following code finds the distances for the 30th nearest neighbor based on the PCA-transformed features. Type the following code into the blank code cell in your lab notebook and run it to produce the results."
   ]
  },
  {
   "cell_type": "code",
   "execution_count": null,
   "id": "07e3f2ea",
   "metadata": {},
   "outputs": [],
   "source": [
    "# Enter your lab code here"
   ]
  },
  {
   "cell_type": "markdown",
   "id": "468433ae",
   "metadata": {},
   "source": [
    "### Step 4 - Optimize DBSCAN Part 2"
   ]
  },
  {
   "cell_type": "markdown",
   "id": "fb187901",
   "metadata": {},
   "source": [
    "The following code creates a *k-dist chart* of the 30th nearest neighbor distances. The idea is to look at the chart and find the point of diminishing returns and use that as the value of *eps* for the DBSCAN clustering. Type the following code into the blank code cell in your lab notebook and run it to produce the results."
   ]
  },
  {
   "cell_type": "code",
   "execution_count": null,
   "id": "90ff1f3e",
   "metadata": {},
   "outputs": [],
   "source": [
    "# Enter your lab code here"
   ]
  },
  {
   "cell_type": "markdown",
   "id": "6a56feb1",
   "metadata": {},
   "source": [
    "### Step 5 - Cluster Data"
   ]
  },
  {
   "cell_type": "markdown",
   "id": "57ee69c0",
   "metadata": {},
   "source": [
    "Based on the *k-dist chart*, it appears a reasonable value for *eps* is 24. As noted previously, these techniques are subjective. You are encoraged to look at the chart and experiment with your own interpreation of where the *eps* inflection point is given a *min_samples* value of 30."
   ]
  },
  {
   "cell_type": "code",
   "execution_count": null,
   "id": "1107a173",
   "metadata": {},
   "outputs": [],
   "source": [
    "# Enter your lab code here"
   ]
  },
  {
   "cell_type": "markdown",
   "id": "e0a8b871",
   "metadata": {},
   "source": [
    "### Step 6 - Evaluating Cluster 0"
   ]
  },
  {
   "cell_type": "markdown",
   "id": "3a973be3",
   "metadata": {},
   "source": [
    "Given the *hand-written digits* dataset has 64 numeric features, it is impossible to evaluate clusters visually. The following code is similar to a previous lab by aggregating label counts to gain insights into the clusters. Type the following code into the blank code cell in your lab notebook and run it to produce the results."
   ]
  },
  {
   "cell_type": "code",
   "execution_count": null,
   "id": "5eea11ba",
   "metadata": {
    "scrolled": false
   },
   "outputs": [],
   "source": [
    "# Enter your lab code here"
   ]
  },
  {
   "cell_type": "markdown",
   "id": "04dc9336",
   "metadata": {},
   "source": [
    "### Step 7 - Evaluating Additional Clusters"
   ]
  },
  {
   "cell_type": "markdown",
   "id": "d009e380",
   "metadata": {},
   "source": [
    "As the remaining time for this lab allows, copy and paste the code above and change it to evaluate the additional clusters produced by the DBSCAN clustering."
   ]
  },
  {
   "cell_type": "code",
   "execution_count": null,
   "id": "07ff7a8f",
   "metadata": {},
   "outputs": [],
   "source": [
    "# Enter your lab code here"
   ]
  }
 ],
 "metadata": {
  "kernelspec": {
   "display_name": "Python 3 (ipykernel)",
   "language": "python",
   "name": "python3"
  },
  "language_info": {
   "codemirror_mode": {
    "name": "ipython",
    "version": 3
   },
   "file_extension": ".py",
   "mimetype": "text/x-python",
   "name": "python",
   "nbconvert_exporter": "python",
   "pygments_lexer": "ipython3",
   "version": "3.9.13"
  }
 },
 "nbformat": 4,
 "nbformat_minor": 5
}
