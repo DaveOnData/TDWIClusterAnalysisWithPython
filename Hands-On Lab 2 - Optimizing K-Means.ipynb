{
 "cells": [
  {
   "cell_type": "markdown",
   "id": "bcc9dc46",
   "metadata": {},
   "source": [
    "## Hands-On Lab 2 - Optimizing K-Means"
   ]
  },
  {
   "cell_type": "markdown",
   "id": "6790a894",
   "metadata": {},
   "source": [
    "### Step 1 - Load Data"
   ]
  },
  {
   "cell_type": "markdown",
   "id": "926841a2",
   "metadata": {},
   "source": [
    "The *hand-written digits* dataset is provided by the scikit-learn library. The following code loads the dataset as *pandas* objects for use in k-means clustering. Run the following code cell to load the dataset."
   ]
  },
  {
   "cell_type": "code",
   "execution_count": null,
   "id": "e8364c3b",
   "metadata": {},
   "outputs": [],
   "source": [
    "from sklearn.datasets import load_digits\n",
    "\n",
    "# The load_digits() function returns a bunch object\n",
    "digits_bunch = load_digits(as_frame = True)\n",
    "\n",
    "# Get the labels\n",
    "digits_Y = digits_bunch.target\n",
    "\n",
    "# Get the feature data\n",
    "digits_X = digits_bunch.data"
   ]
  },
  {
   "cell_type": "markdown",
   "id": "d4e49678",
   "metadata": {},
   "source": [
    "### Step 2 - Evaluating Cohesion with Inertia"
   ]
  },
  {
   "cell_type": "markdown",
   "id": "2ff49c02",
   "metadata": {},
   "source": [
    "As discussed during lecture, the *KMeans* class automatically calculates the total squared distances of all data points to their assigned clusters. This value is available via the *inertia_* attribute. Type the following code into the blank code cell in your lab notebook and run it to produce the results."
   ]
  },
  {
   "cell_type": "code",
   "execution_count": null,
   "id": "09d13c67",
   "metadata": {},
   "outputs": [],
   "source": [
    "# Enter your lab code here"
   ]
  },
  {
   "cell_type": "markdown",
   "id": "24320abb",
   "metadata": {},
   "source": [
    "### Step 3 - The Elbow Method"
   ]
  },
  {
   "cell_type": "markdown",
   "id": "3531f6e1",
   "metadata": {},
   "source": [
    "The elbow method is a heuristic for finding an optimal value of k based on the inertia calculation. The elbow method uses *scree plots* to visualize how inertia changes in response to different k values. The goal is to pick a value of k where there is diminishing returns in inertia - the *elbow* of the scree plot. Type the following code into the blank code cell in your lab notebook and run it to produce the results."
   ]
  },
  {
   "cell_type": "code",
   "execution_count": null,
   "id": "5437886f",
   "metadata": {},
   "outputs": [],
   "source": [
    "# Enter your lab code here"
   ]
  },
  {
   "cell_type": "markdown",
   "id": "b4b91142",
   "metadata": {},
   "source": [
    "### Step 4 - Calculating the Silhouette Score"
   ]
  },
  {
   "cell_type": "markdown",
   "id": "6af4acad",
   "metadata": {},
   "source": [
    "The silhouette coefficient is another popular method for optimizing k-means. Unlike inertia, the silhouette coefficient incorporates both cohesion and separation into the calculation. The silhouette score is the average silhouette coefficient across all data points in a clustering. Type the following code into the blank code cell in your lab notebook and run it to produce the results."
   ]
  },
  {
   "cell_type": "code",
   "execution_count": null,
   "id": "2ef9f332",
   "metadata": {},
   "outputs": [],
   "source": [
    "# Enter your lab code here"
   ]
  },
  {
   "cell_type": "markdown",
   "id": "a6eadd9a",
   "metadata": {},
   "source": [
    "### Step 5 - Visualizing the Silhouette Score"
   ]
  },
  {
   "cell_type": "markdown",
   "id": "e2f0bad4",
   "metadata": {},
   "source": [
    "The most efficient way to optimize k-means using the silhouette score is by visualizing the score changes in response to different values of k. The idea is to opimize k by maximizing the silhouette score. Type the following code into the blank code cell in your lab notebook and run it to produce the results."
   ]
  },
  {
   "cell_type": "code",
   "execution_count": null,
   "id": "e9933bdc",
   "metadata": {},
   "outputs": [],
   "source": [
    "# Enter your lab code here"
   ]
  }
 ],
 "metadata": {
  "kernelspec": {
   "display_name": "Python 3 (ipykernel)",
   "language": "python",
   "name": "python3"
  },
  "language_info": {
   "codemirror_mode": {
    "name": "ipython",
    "version": 3
   },
   "file_extension": ".py",
   "mimetype": "text/x-python",
   "name": "python",
   "nbconvert_exporter": "python",
   "pygments_lexer": "ipython3",
   "version": "3.9.13"
  }
 },
 "nbformat": 4,
 "nbformat_minor": 5
}
