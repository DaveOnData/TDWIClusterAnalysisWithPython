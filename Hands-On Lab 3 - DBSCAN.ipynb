{
 "cells": [
  {
   "cell_type": "markdown",
   "id": "4bc5b6c7",
   "metadata": {},
   "source": [
    "## Hands-On Lab 3 - DBSCAN"
   ]
  },
  {
   "cell_type": "markdown",
   "id": "65700e67",
   "metadata": {},
   "source": [
    "### Step 1 - Load Data"
   ]
  },
  {
   "cell_type": "markdown",
   "id": "96ebe72e",
   "metadata": {},
   "source": [
    "The *hand-written digits* dataset is provided by the scikit-learn library. The following code loads the dataset as *pandas* objects for use in k-means clustering. Run the following code cell to load the dataset."
   ]
  },
  {
   "cell_type": "code",
   "execution_count": null,
   "id": "b0d5547e",
   "metadata": {},
   "outputs": [],
   "source": [
    "from sklearn.datasets import load_digits\n",
    "\n",
    "# The load_digits() function returns a bunch object\n",
    "digits_bunch = load_digits(as_frame = True)\n",
    "\n",
    "# Get the labels\n",
    "digits_Y = digits_bunch.target.rename('Actual Label')\n",
    "\n",
    "# Get the feature data\n",
    "digits_X = digits_bunch.data"
   ]
  },
  {
   "cell_type": "markdown",
   "id": "9808469b",
   "metadata": {},
   "source": [
    "### Step 2 - Optimize DBSCAN Part 1"
   ]
  },
  {
   "cell_type": "markdown",
   "id": "7121050e",
   "metadata": {},
   "source": [
    "As discussed during lecture, optimizing DBSCAN is a best practice. The first step in optimizing DBSCAN is calculating a value for the *min_samples* DBSCAN parameter. A good rule of thumb is to set *min_samples* to twice the number of features to be clustered plus one. Type the following code into the blank code cell in your lab notebook and run it to produce the results."
   ]
  },
  {
   "cell_type": "code",
   "execution_count": null,
   "id": "d82a1494",
   "metadata": {},
   "outputs": [],
   "source": [
    "# Enter your lab code here"
   ]
  },
  {
   "cell_type": "markdown",
   "id": "3dd584a7",
   "metadata": {},
   "source": [
    "### Step 3 - Optimize DBSCAN Part 2"
   ]
  },
  {
   "cell_type": "markdown",
   "id": "96bdc9a5",
   "metadata": {},
   "source": [
    "The next step in optimizing DBSCAN is to iterate through the dataset to find the distances of the *min_samples-th* data points. As discussed in lecture, the *NearestNeighbors* class peforms these calulations. Given the value of *min_samples*, only the 129th closest data point is needed. Type the following code into the blank code cell in your lab notebook and run it to produce the results."
   ]
  },
  {
   "cell_type": "code",
   "execution_count": null,
   "id": "c5661a8a",
   "metadata": {},
   "outputs": [],
   "source": [
    "# Enter your lab code here"
   ]
  },
  {
   "cell_type": "markdown",
   "id": "a88a2167",
   "metadata": {},
   "source": [
    "### Step 4 - Optimize DBSCAN Part 3"
   ]
  },
  {
   "cell_type": "markdown",
   "id": "06e8c67a",
   "metadata": {},
   "source": [
    "The last step of optimizing DBSCAN is creating a *k-dist chart*, looking for the point of diminishing returns for *eps* based on k = 129. The optimal value of eps is chosen to be the \"elbow\" in the visalization. The distances need to be sorted prior to creating the visualization. Type the following code into the blank code cell in your lab notebook and run it to produce the results."
   ]
  },
  {
   "cell_type": "code",
   "execution_count": null,
   "id": "d2243f59",
   "metadata": {},
   "outputs": [],
   "source": [
    "# Enter your lab code here"
   ]
  },
  {
   "cell_type": "markdown",
   "id": "25407112",
   "metadata": {},
   "source": [
    "### Step 5 - Cluster Data"
   ]
  },
  {
   "cell_type": "markdown",
   "id": "144a785b",
   "metadata": {},
   "source": [
    "From Step 4 you know that a reasonable value for *eps* is approximately 31 given a *min_samples* of 129. Unfortunately, the following code demonstrates that these values do not work well at all for the *hand-written digits* dataset. These values are clearly too large for the data, given that only three clusters were discovered and over half of the data is noise points. Type the following code into the blank code cell in your lab notebook and run it to produce the results."
   ]
  },
  {
   "cell_type": "code",
   "execution_count": null,
   "id": "a7ca4e3f",
   "metadata": {},
   "outputs": [],
   "source": [
    "# Enter your lab code here"
   ]
  },
  {
   "cell_type": "markdown",
   "id": "f201ac7b",
   "metadata": {},
   "source": [
    "### Step 6 - Going Small"
   ]
  },
  {
   "cell_type": "markdown",
   "id": "39a31731",
   "metadata": {},
   "source": [
    "The first pass at optimizing DBSCAN using best practices was not successful to say the least. The quality of a clustering is highly dependent on both the algorithm chosen and the nature of the dataset. Experimenting with clustering techniques is very common in practice given this reality. In the case of the *hand-written digits* dataset, a reasonable experiment is to go small for the value of *min_samples*. A good rule of thumb is a minimum of the number of features plus one (i.e., 64 + 1 = 65 for the *hand-written digits* dataset). Type the following code into the blank code cell in your lab notebook and run it to produce the results."
   ]
  },
  {
   "cell_type": "code",
   "execution_count": null,
   "id": "1744a7f1",
   "metadata": {},
   "outputs": [],
   "source": [
    "# Enter your lab code here"
   ]
  },
  {
   "cell_type": "markdown",
   "id": "0847f3cb",
   "metadata": {},
   "source": [
    "### Step 7 - Optimizing DBSCAN (Again)"
   ]
  },
  {
   "cell_type": "markdown",
   "id": "88398d0d",
   "metadata": {},
   "source": [
    "Feel free to reuse code from Steps 3 & 4 rather than type all of the following out again. Run the cell to output the results. "
   ]
  },
  {
   "cell_type": "code",
   "execution_count": null,
   "id": "03f26291",
   "metadata": {},
   "outputs": [],
   "source": [
    "# Enter your lab code here"
   ]
  },
  {
   "cell_type": "markdown",
   "id": "2514441d",
   "metadata": {},
   "source": [
    "### Step 8 - Cluster Data (Again)"
   ]
  },
  {
   "cell_type": "markdown",
   "id": "7751eb83",
   "metadata": {},
   "source": [
    "From Step 7 you know that 28 is a reasonable value for *eps*. Feel free to reuse code from Step 5 rather than type all of the following out again. Run the cell to output the results."
   ]
  },
  {
   "cell_type": "code",
   "execution_count": null,
   "id": "f3d6c6ec",
   "metadata": {},
   "outputs": [],
   "source": [
    "# Enter your lab code here"
   ]
  }
 ],
 "metadata": {
  "kernelspec": {
   "display_name": "Python 3 (ipykernel)",
   "language": "python",
   "name": "python3"
  },
  "language_info": {
   "codemirror_mode": {
    "name": "ipython",
    "version": 3
   },
   "file_extension": ".py",
   "mimetype": "text/x-python",
   "name": "python",
   "nbconvert_exporter": "python",
   "pygments_lexer": "ipython3",
   "version": "3.9.13"
  }
 },
 "nbformat": 4,
 "nbformat_minor": 5
}
