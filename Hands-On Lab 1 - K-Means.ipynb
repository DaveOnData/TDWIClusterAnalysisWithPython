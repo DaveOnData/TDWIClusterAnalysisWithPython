{
 "cells": [
  {
   "cell_type": "markdown",
   "id": "50904609",
   "metadata": {},
   "source": [
    "## Hands-On Lab 1 - K-Means"
   ]
  },
  {
   "cell_type": "markdown",
   "id": "203c916d",
   "metadata": {},
   "source": [
    "### Step 1 - Load Data"
   ]
  },
  {
   "cell_type": "markdown",
   "id": "8c856efc",
   "metadata": {},
   "source": [
    "The *hand-written digits* dataset is provided by the scikit-learn library. The following code loads the dataset as *pandas* objects for use in k-means clustering. Run the following code cell to load the dataset."
   ]
  },
  {
   "cell_type": "code",
   "execution_count": null,
   "id": "1344940f",
   "metadata": {},
   "outputs": [],
   "source": [
    "from sklearn.datasets import load_digits\n",
    "\n",
    "# The load_digits() function returns a bunch object\n",
    "digits_bunch = load_digits(as_frame = True)\n",
    "\n",
    "# Get the labels\n",
    "digits_Y = digits_bunch.target\n",
    "\n",
    "# Get the feature data\n",
    "digits_X = digits_bunch.data\n",
    "digits_X.head()"
   ]
  },
  {
   "cell_type": "markdown",
   "id": "05c42dab",
   "metadata": {},
   "source": [
    "### Step 2 - Perform K-Means Clustering"
   ]
  },
  {
   "cell_type": "markdown",
   "id": "512daea3",
   "metadata": {},
   "source": [
    "The numeric features of the *hand-written digits* dataset are already scaled to values of 0 thru 16. Therefore, no standardization of the data is required before clustering. Additionally, we know there are ten classes in the dataset (i.e., numbers 0 thru 9), so we'll use that for k. Type the following code into the blank code cell in your lab notebook and run it to produce the results."
   ]
  },
  {
   "cell_type": "code",
   "execution_count": null,
   "id": "2dd22280",
   "metadata": {},
   "outputs": [],
   "source": [
    "# Enter your lab code here"
   ]
  },
  {
   "cell_type": "markdown",
   "id": "7a8d2f6c",
   "metadata": {},
   "source": [
    "### Step 3 - Evaluating Clusters"
   ]
  },
  {
   "cell_type": "markdown",
   "id": "99a65719",
   "metadata": {},
   "source": [
    "Given the *hand-written digits* dataset has 64 numeric features, it is impossible to evaluate clusters visually. In the next section of the course we'll cover methods for evaluating clusters using mathematical calculations. For now, we can aggregate the labels dataframe to get some insight into the cluster assignments. Type the following code into the blank code cell in your lab notebook and run it to produce the results."
   ]
  },
  {
   "cell_type": "code",
   "execution_count": null,
   "id": "d1b4a630",
   "metadata": {},
   "outputs": [],
   "source": [
    "# Enter your lab code here"
   ]
  },
  {
   "cell_type": "markdown",
   "id": "7a49ef58",
   "metadata": {},
   "source": [
    "### Step 4 - Evaluating Cluster 0"
   ]
  },
  {
   "cell_type": "markdown",
   "id": "f4156689",
   "metadata": {},
   "source": [
    "As we know, cluster assignments are rarely perfect. Also, the k-means cluster assignments are unlikely to align with any known classes. For example, it is unlikely that cluster label 0 aligns to the observations labeled 0. Given we know the ground truth labels, we can look at each cluster assignment in turn to gain insights. Below the slide in the notes are questions to answer.\n",
    "\n",
    "Type the following code into the blank code cell in your lab notebook and run it to produce the results."
   ]
  },
  {
   "cell_type": "code",
   "execution_count": null,
   "id": "b7104464",
   "metadata": {},
   "outputs": [],
   "source": [
    "# Enter your lab code here"
   ]
  },
  {
   "cell_type": "markdown",
   "id": "0236299b",
   "metadata": {},
   "source": [
    "### Step 5 - Evaluating Cluster 1"
   ]
  },
  {
   "cell_type": "markdown",
   "id": "344efe9d",
   "metadata": {},
   "source": [
    "Repeat the evaluation process for cluster label 1, answering the question in the notes below the slide. Type the following code into the blank code cell in your lab notebook and run it to produce the results."
   ]
  },
  {
   "cell_type": "code",
   "execution_count": null,
   "id": "5e7d461f",
   "metadata": {},
   "outputs": [],
   "source": [
    "# Enter your lab code here"
   ]
  },
  {
   "cell_type": "markdown",
   "id": "6197cb90",
   "metadata": {},
   "source": [
    "### Step 5 - Evaluating Cluster 2"
   ]
  },
  {
   "cell_type": "markdown",
   "id": "3a16e427",
   "metadata": {},
   "source": [
    "Repeat the evaluation process for cluster label 2, answering the question in the notes below the slide. Type the following code into the blank code cell in your lab notebook and run it to produce the results."
   ]
  },
  {
   "cell_type": "code",
   "execution_count": null,
   "id": "593a4ed0",
   "metadata": {},
   "outputs": [],
   "source": [
    "# Enter your lab code here"
   ]
  },
  {
   "cell_type": "markdown",
   "id": "2c985a93",
   "metadata": {},
   "source": [
    "### Step 6 - Evaluating Cluster 3"
   ]
  },
  {
   "cell_type": "markdown",
   "id": "f48fab37",
   "metadata": {},
   "source": [
    "Repeat the evaluation process for cluster label 3, answering the question in the notes below the slide. Type the following code into the blank code cell in your lab notebook and run it to produce the results."
   ]
  },
  {
   "cell_type": "code",
   "execution_count": null,
   "id": "7d963359",
   "metadata": {},
   "outputs": [],
   "source": [
    "# Enter your lab code here"
   ]
  },
  {
   "cell_type": "markdown",
   "id": "04faf992",
   "metadata": {},
   "source": [
    "### Step 7 - Continue to Explore the Data"
   ]
  },
  {
   "cell_type": "markdown",
   "id": "240145f5",
   "metadata": {},
   "source": [
    "If there is time remaining in the lab, repeat the process with additional clusters. Make note of any patterns you find - especially cluster labels that were inaccurate (e.g., like cluster label 3). This can be done quickly by reusing your code above and changing the cluster label number."
   ]
  },
  {
   "cell_type": "code",
   "execution_count": null,
   "id": "d0dafee6",
   "metadata": {},
   "outputs": [],
   "source": [
    "# Enter your lab code here"
   ]
  }
 ],
 "metadata": {
  "kernelspec": {
   "display_name": "Python 3 (ipykernel)",
   "language": "python",
   "name": "python3"
  },
  "language_info": {
   "codemirror_mode": {
    "name": "ipython",
    "version": 3
   },
   "file_extension": ".py",
   "mimetype": "text/x-python",
   "name": "python",
   "nbconvert_exporter": "python",
   "pygments_lexer": "ipython3",
   "version": "3.9.13"
  }
 },
 "nbformat": 4,
 "nbformat_minor": 5
}
