{
 "cells": [
  {
   "cell_type": "markdown",
   "id": "e6c1cf4b",
   "metadata": {},
   "source": [
    "## Hands-On Lab 5 - Categorical Data"
   ]
  },
  {
   "cell_type": "markdown",
   "id": "8735dcdb",
   "metadata": {},
   "source": [
    "### Step 1 - Load Data"
   ]
  },
  {
   "cell_type": "markdown",
   "id": "afc13b69",
   "metadata": {},
   "source": [
    "The following code loads the *heart* dataset. Run the code cell."
   ]
  },
  {
   "cell_type": "code",
   "execution_count": null,
   "id": "d0eaf3a2",
   "metadata": {},
   "outputs": [],
   "source": [
    "import pandas as pd\n",
    "\n",
    "heart_df = pd.read_csv(\"Heart.csv\")\n",
    "heart_df.info()"
   ]
  },
  {
   "cell_type": "markdown",
   "id": "ebe32023",
   "metadata": {},
   "source": [
    "### Step 2 - Split Dataset"
   ]
  },
  {
   "cell_type": "markdown",
   "id": "97682836",
   "metadata": {},
   "source": [
    "The following code splits the *heart* dataset into objects for the labels (i.e., a *pandas Series*) and the features (i.e., a *pandas DataFrame*). Type the following code into the blank code cell in your lab notebook and run it."
   ]
  },
  {
   "cell_type": "code",
   "execution_count": null,
   "id": "15b44dad",
   "metadata": {},
   "outputs": [],
   "source": [
    "# Enter your lab code here"
   ]
  },
  {
   "cell_type": "markdown",
   "id": "2dc8bc0d",
   "metadata": {},
   "source": [
    "### Step 3 - Set Categorical Data"
   ]
  },
  {
   "cell_type": "markdown",
   "id": "050a60ec",
   "metadata": {},
   "source": [
    "As discussed during lecture, the *FAMD* class from the *prince* library treats string features as categorical data. The following code explicitly sets the categorical features of the *heart* dataset to be strings. Type the following code into the blank code cell in your lab notebook and run it."
   ]
  },
  {
   "cell_type": "code",
   "execution_count": null,
   "id": "a32dfc0c",
   "metadata": {},
   "outputs": [],
   "source": [
    "# Enter your lab code here"
   ]
  },
  {
   "cell_type": "markdown",
   "id": "5d55aa62",
   "metadata": {},
   "source": [
    "### Step 4 - Perform FAMD"
   ]
  },
  {
   "cell_type": "markdown",
   "id": "687e8db4",
   "metadata": {},
   "source": [
    "As discussed during lecture, almost half of the *heart* dataset features are categorical. Perform FAMD and return a component back for every feature in the dataset. Type the following code into the blank code cell in your lab notebook and run it to produce the results."
   ]
  },
  {
   "cell_type": "code",
   "execution_count": null,
   "id": "ee730add",
   "metadata": {},
   "outputs": [],
   "source": [
    "# Enter your lab code here"
   ]
  },
  {
   "cell_type": "markdown",
   "id": "fbd2936d",
   "metadata": {},
   "source": [
    "### Step 5 - Cluster the Data"
   ]
  },
  {
   "cell_type": "markdown",
   "id": "5d0e9b84",
   "metadata": {},
   "source": [
    "We know that there are two classes in the *heart* dataset. Use k-means clustering to cluster the FAMD-transformed data. Type the following code into the blank code cell in your lab notebook and run it to produce the results."
   ]
  },
  {
   "cell_type": "code",
   "execution_count": null,
   "id": "ece58a28",
   "metadata": {},
   "outputs": [],
   "source": [
    "# Enter your lab code here"
   ]
  },
  {
   "cell_type": "markdown",
   "id": "a4098056",
   "metadata": {},
   "source": [
    "### Step 6 - Evaluate Cluster 0"
   ]
  },
  {
   "cell_type": "markdown",
   "id": "0fbc3e5b",
   "metadata": {},
   "source": [
    "The following code is similar to previous labs by aggregating label counts to gain insights into the clusters. Type the following code into the blank code cell in your lab notebook and run it to produce the results."
   ]
  },
  {
   "cell_type": "code",
   "execution_count": null,
   "id": "5074fce4",
   "metadata": {},
   "outputs": [],
   "source": [
    "# Enter your lab code here"
   ]
  },
  {
   "cell_type": "markdown",
   "id": "c29afb94",
   "metadata": {},
   "source": [
    "### Step 7 - Evaluate Cluster 1"
   ]
  },
  {
   "cell_type": "markdown",
   "id": "102ad717",
   "metadata": {},
   "source": [
    "Type the following code into the blank code cell in your lab notebook and run it to produce the results."
   ]
  },
  {
   "cell_type": "code",
   "execution_count": null,
   "id": "30158d6a",
   "metadata": {},
   "outputs": [],
   "source": [
    "# Enter your lab code here"
   ]
  }
 ],
 "metadata": {
  "kernelspec": {
   "display_name": "Python 3 (ipykernel)",
   "language": "python",
   "name": "python3"
  },
  "language_info": {
   "codemirror_mode": {
    "name": "ipython",
    "version": 3
   },
   "file_extension": ".py",
   "mimetype": "text/x-python",
   "name": "python",
   "nbconvert_exporter": "python",
   "pygments_lexer": "ipython3",
   "version": "3.9.13"
  }
 },
 "nbformat": 4,
 "nbformat_minor": 5
}
